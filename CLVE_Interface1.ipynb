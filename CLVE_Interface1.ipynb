{
 "cells": [
  {
   "cell_type": "code",
   "execution_count": 1,
   "id": "3ff08472-d89c-4d2a-8968-fcc984dbed20",
   "metadata": {},
   "outputs": [],
   "source": [
    "import joblib\n",
    "import numpy as np"
   ]
  },
  {
   "cell_type": "code",
   "execution_count": 2,
   "id": "065df074-c081-434f-87bb-98ca63de61b1",
   "metadata": {},
   "outputs": [],
   "source": [
    "loaded_model = joblib.load('linear_modelled.pk1')"
   ]
  },
  {
   "cell_type": "code",
   "execution_count": 3,
   "id": "ef7a9b94-4690-44a0-b99e-603914b0c09e",
   "metadata": {},
   "outputs": [],
   "source": [
    "avg_session_length = float(input(\"Enter Avg. Session Length: \"))\n",
    "time_on_app = float(input(\"Enter Time on App: \"))\n",
    "time_on_website = float(input(\"Enter Time on Website: \"))\n",
    "length_of_membership = float(input(\"Enter Length of Membership: \"))"
   ]
  },
  {
   "cell_type": "code",
   "execution_count": 4,
   "id": "471d37d3-40a4-4b12-a5e5-9580ab142b87",
   "metadata": {},
   "outputs": [],
   "source": [
    "input=[[avg_session_length, time_on_app, time_on_website, length_of_membership]]"
   ]
  },
  {
   "cell_type": "code",
   "execution_count": 5,
   "id": "dc370ae5-0eff-49d1-931f-71fe13dd24ce",
   "metadata": {},
   "outputs": [
    {
     "name": "stderr",
     "output_type": "stream",
     "text": [
      "C:\\Users\\measm\\AppData\\Roaming\\Python\\Python311\\site-packages\\sklearn\\base.py:465: UserWarning: X does not have valid feature names, but LinearRegression was fitted with feature names\n",
      "  warnings.warn(\n"
     ]
    }
   ],
   "source": [
    "predicted_yearly_amount_spent = loaded_model.predict(input)"
   ]
  },
  {
   "cell_type": "code",
   "execution_count": 6,
   "id": "b1618446-f53f-444e-a63a-a3c58f3847fa",
   "metadata": {},
   "outputs": [
    {
     "name": "stdout",
     "output_type": "stream",
     "text": [
      "[-921.89157195]\n"
     ]
    }
   ],
   "source": [
    "print(predicted_yearly_amount_spent)"
   ]
  }
 ],
 "metadata": {
  "kernelspec": {
   "display_name": "Python 3 (ipykernel)",
   "language": "python",
   "name": "python3"
  },
  "language_info": {
   "codemirror_mode": {
    "name": "ipython",
    "version": 3
   },
   "file_extension": ".py",
   "mimetype": "text/x-python",
   "name": "python",
   "nbconvert_exporter": "python",
   "pygments_lexer": "ipython3",
   "version": "3.11.3"
  }
 },
 "nbformat": 4,
 "nbformat_minor": 5
}
